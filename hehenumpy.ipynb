{
 "cells": [
  {
   "cell_type": "markdown",
   "id": "135a97c9",
   "metadata": {},
   "source": [
    "### two dimensional array\n"
   ]
  },
  {
   "cell_type": "code",
   "execution_count": 6,
   "id": "51e33e7f",
   "metadata": {},
   "outputs": [],
   "source": [
    "import numpy as np\n"
   ]
  },
  {
   "cell_type": "code",
   "execution_count": 8,
   "id": "5d245ca6",
   "metadata": {},
   "outputs": [
    {
     "data": {
      "text/plain": [
       "array([[50, 20,  1,  3],\n",
       "       [24, 22, 21, 23],\n",
       "       [56, 76, 24,  7]])"
      ]
     },
     "execution_count": 8,
     "metadata": {},
     "output_type": "execute_result"
    }
   ],
   "source": [
    "sample_matrix=np.array([[50,20,1,3],[24,22,21,23],[56,76,24,7]])\n",
    "sample_matrix"
   ]
  },
  {
   "cell_type": "code",
   "execution_count": 9,
   "id": "776f9e12",
   "metadata": {},
   "outputs": [
    {
     "data": {
      "text/plain": [
       "21"
      ]
     },
     "execution_count": 9,
     "metadata": {},
     "output_type": "execute_result"
    }
   ],
   "source": [
    "sample_matrix[1,2]"
   ]
  },
  {
   "cell_type": "code",
   "execution_count": 10,
   "id": "b31af340",
   "metadata": {},
   "outputs": [
    {
     "data": {
      "text/plain": [
       "array([56, 76, 24,  7])"
      ]
     },
     "execution_count": 10,
     "metadata": {},
     "output_type": "execute_result"
    }
   ],
   "source": [
    "sample_matrix[2,:]"
   ]
  },
  {
   "cell_type": "code",
   "execution_count": 11,
   "id": "c6bb8406",
   "metadata": {},
   "outputs": [
    {
     "data": {
      "text/plain": [
       "array([56, 76, 24,  7])"
      ]
     },
     "execution_count": 11,
     "metadata": {},
     "output_type": "execute_result"
    }
   ],
   "source": [
    "sample_matrix[2]"
   ]
  },
  {
   "cell_type": "code",
   "execution_count": 12,
   "id": "f6c67648",
   "metadata": {},
   "outputs": [
    {
     "data": {
      "text/plain": [
       "array([[ 3,  1],\n",
       "       [23, 21],\n",
       "       [ 7, 24]])"
      ]
     },
     "execution_count": 12,
     "metadata": {},
     "output_type": "execute_result"
    }
   ],
   "source": [
    "sample_matrix[:,(3,2)]"
   ]
  },
  {
   "cell_type": "markdown",
   "id": "d133c969",
   "metadata": {},
   "source": [
    "##selection technique"
   ]
  },
  {
   "cell_type": "markdown",
   "id": "9378d704",
   "metadata": {},
   "source": [
    "#SELECTION TECHNIQUE"
   ]
  },
  {
   "cell_type": "code",
   "execution_count": 15,
   "id": "8e9b30d5",
   "metadata": {},
   "outputs": [
    {
     "data": {
      "text/plain": [
       "array([ 1,  2,  3,  4,  5,  6,  7,  8,  9, 10, 11, 12, 13, 14, 15, 16, 17,\n",
       "       18, 19])"
      ]
     },
     "execution_count": 15,
     "metadata": {},
     "output_type": "execute_result"
    }
   ],
   "source": [
    "sample_array=np.arange(1,20)\n",
    "sample_array"
   ]
  },
  {
   "cell_type": "code",
   "execution_count": 16,
   "id": "bde625dd",
   "metadata": {},
   "outputs": [
    {
     "data": {
      "text/plain": [
       "array([ 2,  4,  6,  8, 10, 12, 14, 16, 18, 20, 22, 24, 26, 28, 30, 32, 34,\n",
       "       36, 38])"
      ]
     },
     "execution_count": 16,
     "metadata": {},
     "output_type": "execute_result"
    }
   ],
   "source": [
    "sample_array+sample_array"
   ]
  },
  {
   "cell_type": "code",
   "execution_count": 17,
   "id": "0b08d37f",
   "metadata": {},
   "outputs": [
    {
     "data": {
      "text/plain": [
       "array([2.71828183e+00, 7.38905610e+00, 2.00855369e+01, 5.45981500e+01,\n",
       "       1.48413159e+02, 4.03428793e+02, 1.09663316e+03, 2.98095799e+03,\n",
       "       8.10308393e+03, 2.20264658e+04, 5.98741417e+04, 1.62754791e+05,\n",
       "       4.42413392e+05, 1.20260428e+06, 3.26901737e+06, 8.88611052e+06,\n",
       "       2.41549528e+07, 6.56599691e+07, 1.78482301e+08])"
      ]
     },
     "execution_count": 17,
     "metadata": {},
     "output_type": "execute_result"
    }
   ],
   "source": [
    "np.exp(sample_array)"
   ]
  },
  {
   "cell_type": "code",
   "execution_count": 18,
   "id": "d47d69cd",
   "metadata": {},
   "outputs": [
    {
     "data": {
      "text/plain": [
       "array([1.        , 1.41421356, 1.73205081, 2.        , 2.23606798,\n",
       "       2.44948974, 2.64575131, 2.82842712, 3.        , 3.16227766,\n",
       "       3.31662479, 3.46410162, 3.60555128, 3.74165739, 3.87298335,\n",
       "       4.        , 4.12310563, 4.24264069, 4.35889894])"
      ]
     },
     "execution_count": 18,
     "metadata": {},
     "output_type": "execute_result"
    }
   ],
   "source": [
    "np.sqrt(sample_array)"
   ]
  },
  {
   "cell_type": "code",
   "execution_count": 19,
   "id": "44cdcfde",
   "metadata": {},
   "outputs": [
    {
     "data": {
      "text/plain": [
       "array([0.        , 0.69314718, 1.09861229, 1.38629436, 1.60943791,\n",
       "       1.79175947, 1.94591015, 2.07944154, 2.19722458, 2.30258509,\n",
       "       2.39789527, 2.48490665, 2.56494936, 2.63905733, 2.7080502 ,\n",
       "       2.77258872, 2.83321334, 2.89037176, 2.94443898])"
      ]
     },
     "execution_count": 19,
     "metadata": {},
     "output_type": "execute_result"
    }
   ],
   "source": [
    "np.log(sample_array)"
   ]
  },
  {
   "cell_type": "code",
   "execution_count": 20,
   "id": "017d9781",
   "metadata": {},
   "outputs": [
    {
     "data": {
      "text/plain": [
       "19"
      ]
     },
     "execution_count": 20,
     "metadata": {},
     "output_type": "execute_result"
    }
   ],
   "source": [
    "np.max(sample_array)"
   ]
  },
  {
   "cell_type": "code",
   "execution_count": 21,
   "id": "81892d73",
   "metadata": {},
   "outputs": [
    {
     "data": {
      "text/plain": [
       "1"
      ]
     },
     "execution_count": 21,
     "metadata": {},
     "output_type": "execute_result"
    }
   ],
   "source": [
    "np.min(sample_array)"
   ]
  },
  {
   "cell_type": "code",
   "execution_count": 22,
   "id": "4bca7767",
   "metadata": {},
   "outputs": [
    {
     "data": {
      "text/plain": [
       "18"
      ]
     },
     "execution_count": 22,
     "metadata": {},
     "output_type": "execute_result"
    }
   ],
   "source": [
    "np.argmax(sample_array)"
   ]
  },
  {
   "cell_type": "code",
   "execution_count": 23,
   "id": "19b5558d",
   "metadata": {},
   "outputs": [
    {
     "data": {
      "text/plain": [
       "0"
      ]
     },
     "execution_count": 23,
     "metadata": {},
     "output_type": "execute_result"
    }
   ],
   "source": [
    "np.argmin(sample_array)"
   ]
  },
  {
   "cell_type": "code",
   "execution_count": 24,
   "id": "58b265ee",
   "metadata": {},
   "outputs": [
    {
     "data": {
      "text/plain": [
       "array([  1,   4,   9,  16,  25,  36,  49,  64,  81, 100, 121, 144, 169,\n",
       "       196, 225, 256, 289, 324, 361])"
      ]
     },
     "execution_count": 24,
     "metadata": {},
     "output_type": "execute_result"
    }
   ],
   "source": [
    "np.square(sample_array)"
   ]
  },
  {
   "cell_type": "code",
   "execution_count": 25,
   "id": "15e4912c",
   "metadata": {},
   "outputs": [
    {
     "data": {
      "text/plain": [
       "5.477225575051661"
      ]
     },
     "execution_count": 25,
     "metadata": {},
     "output_type": "execute_result"
    }
   ],
   "source": [
    "np.std(sample_array)"
   ]
  },
  {
   "cell_type": "code",
   "execution_count": 26,
   "id": "49fc3487",
   "metadata": {},
   "outputs": [
    {
     "data": {
      "text/plain": [
       "30.0"
      ]
     },
     "execution_count": 26,
     "metadata": {},
     "output_type": "execute_result"
    }
   ],
   "source": [
    "np.var(sample_array)"
   ]
  },
  {
   "cell_type": "code",
   "execution_count": 27,
   "id": "f7801b6f",
   "metadata": {},
   "outputs": [
    {
     "data": {
      "text/plain": [
       "10.0"
      ]
     },
     "execution_count": 27,
     "metadata": {},
     "output_type": "execute_result"
    }
   ],
   "source": [
    "np.mean(sample_array)"
   ]
  },
  {
   "cell_type": "code",
   "execution_count": 29,
   "id": "4b7d42d9",
   "metadata": {},
   "outputs": [
    {
     "data": {
      "text/plain": [
       "array([[ 0.45676918,  1.28316581, -0.4111191 ,  0.20435203],\n",
       "       [-0.32756972,  0.17267974,  0.13233543,  0.27057094],\n",
       "       [-0.00672048, -0.58674449, -1.37425703, -0.16111121]])"
      ]
     },
     "execution_count": 29,
     "metadata": {},
     "output_type": "execute_result"
    }
   ],
   "source": [
    "array=np.random.randn(3,4)\n",
    "array"
   ]
  },
  {
   "cell_type": "code",
   "execution_count": 32,
   "id": "d12213da",
   "metadata": {},
   "outputs": [
    {
     "data": {
      "text/plain": [
       "array([[ 0.46,  1.28, -0.41,  0.2 ],\n",
       "       [-0.33,  0.17,  0.13,  0.27],\n",
       "       [-0.01, -0.59, -1.37, -0.16]])"
      ]
     },
     "execution_count": 32,
     "metadata": {},
     "output_type": "execute_result"
    }
   ],
   "source": [
    "np.round(array,decimals=2)"
   ]
  },
  {
   "cell_type": "code",
   "execution_count": 36,
   "id": "b2726dab",
   "metadata": {},
   "outputs": [
    {
     "data": {
      "text/plain": [
       "array(['golf', 'cricket', 'fball', 'cricket'], dtype='<U7')"
      ]
     },
     "execution_count": 36,
     "metadata": {},
     "output_type": "execute_result"
    }
   ],
   "source": [
    "sports=np.array(['golf','cricket','fball','cricket'])\n",
    "sports\n"
   ]
  },
  {
   "cell_type": "code",
   "execution_count": 35,
   "id": "aba84727",
   "metadata": {},
   "outputs": [
    {
     "data": {
      "text/plain": [
       "array(['cricket', 'fball', 'golf'], dtype='<U7')"
      ]
     },
     "execution_count": 35,
     "metadata": {},
     "output_type": "execute_result"
    }
   ],
   "source": [
    "np.unique(sports)"
   ]
  },
  {
   "cell_type": "markdown",
   "id": "c7c05ce1",
   "metadata": {},
   "source": [
    "#PANDA"
   ]
  },
  {
   "cell_type": "markdown",
   "id": "10d49421",
   "metadata": {},
   "source": [
    "# PANDA"
   ]
  },
  {
   "cell_type": "code",
   "execution_count": 38,
   "id": "38a5061b",
   "metadata": {},
   "outputs": [],
   "source": [
    "import pandas as pd\n",
    "import numpy as np"
   ]
  },
  {
   "cell_type": "code",
   "execution_count": 45,
   "id": "7b86e9cf",
   "metadata": {},
   "outputs": [
    {
     "data": {
      "text/plain": [
       "cricket     1\n",
       "football    2\n",
       "golf        3\n",
       "bball       4\n",
       "dtype: int64"
      ]
     },
     "execution_count": 45,
     "metadata": {},
     "output_type": "execute_result"
    }
   ],
   "source": [
    "sport1=pd.Series([1,2,3,4],index=['cricket','football','golf','bball'])\n",
    "sport1"
   ]
  },
  {
   "cell_type": "code",
   "execution_count": 46,
   "id": "ecbee93e",
   "metadata": {},
   "outputs": [
    {
     "data": {
      "text/plain": [
       "2"
      ]
     },
     "execution_count": 46,
     "metadata": {},
     "output_type": "execute_result"
    }
   ],
   "source": [
    "sport1['football']"
   ]
  },
  {
   "cell_type": "code",
   "execution_count": 47,
   "id": "8e1fd15b",
   "metadata": {},
   "outputs": [
    {
     "data": {
      "text/plain": [
       "cricket     11\n",
       "football     2\n",
       "bball        3\n",
       "golf         4\n",
       "dtype: int64"
      ]
     },
     "execution_count": 47,
     "metadata": {},
     "output_type": "execute_result"
    }
   ],
   "source": [
    "sport2=pd.Series([11,2,3,4],index=['cricket','football','bball','golf'])\n",
    "sport2                 "
   ]
  },
  {
   "cell_type": "code",
   "execution_count": 48,
   "id": "edef1e69",
   "metadata": {},
   "outputs": [
    {
     "data": {
      "text/plain": [
       "bball        7\n",
       "cricket     12\n",
       "football     4\n",
       "golf         7\n",
       "dtype: int64"
      ]
     },
     "execution_count": 48,
     "metadata": {},
     "output_type": "execute_result"
    }
   ],
   "source": [
    "sport1+sport2"
   ]
  },
  {
   "cell_type": "code",
   "execution_count": 49,
   "id": "f6839a9c",
   "metadata": {},
   "outputs": [
    {
     "data": {
      "text/html": [
       "<div>\n",
       "<style scoped>\n",
       "    .dataframe tbody tr th:only-of-type {\n",
       "        vertical-align: middle;\n",
       "    }\n",
       "\n",
       "    .dataframe tbody tr th {\n",
       "        vertical-align: top;\n",
       "    }\n",
       "\n",
       "    .dataframe thead th {\n",
       "        text-align: right;\n",
       "    }\n",
       "</style>\n",
       "<table border=\"1\" class=\"dataframe\">\n",
       "  <thead>\n",
       "    <tr style=\"text-align: right;\">\n",
       "      <th></th>\n",
       "      <th>score1</th>\n",
       "      <th>score2</th>\n",
       "      <th>score3</th>\n",
       "      <th>score4</th>\n",
       "      <th>score5</th>\n",
       "    </tr>\n",
       "  </thead>\n",
       "  <tbody>\n",
       "    <tr>\n",
       "      <th>A</th>\n",
       "      <td>0.092448</td>\n",
       "      <td>0.913090</td>\n",
       "      <td>0.166320</td>\n",
       "      <td>0.855600</td>\n",
       "      <td>0.968518</td>\n",
       "    </tr>\n",
       "    <tr>\n",
       "      <th>B</th>\n",
       "      <td>0.230390</td>\n",
       "      <td>0.382808</td>\n",
       "      <td>0.931282</td>\n",
       "      <td>0.981165</td>\n",
       "      <td>0.463775</td>\n",
       "    </tr>\n",
       "    <tr>\n",
       "      <th>C</th>\n",
       "      <td>0.022001</td>\n",
       "      <td>0.084436</td>\n",
       "      <td>0.889445</td>\n",
       "      <td>0.656846</td>\n",
       "      <td>0.309484</td>\n",
       "    </tr>\n",
       "    <tr>\n",
       "      <th>D</th>\n",
       "      <td>0.429704</td>\n",
       "      <td>0.983017</td>\n",
       "      <td>0.184688</td>\n",
       "      <td>0.979411</td>\n",
       "      <td>0.599283</td>\n",
       "    </tr>\n",
       "    <tr>\n",
       "      <th>E</th>\n",
       "      <td>0.076814</td>\n",
       "      <td>0.841808</td>\n",
       "      <td>0.080391</td>\n",
       "      <td>0.276825</td>\n",
       "      <td>0.953308</td>\n",
       "    </tr>\n",
       "    <tr>\n",
       "      <th>F</th>\n",
       "      <td>0.448009</td>\n",
       "      <td>0.310957</td>\n",
       "      <td>0.055453</td>\n",
       "      <td>0.542500</td>\n",
       "      <td>0.569815</td>\n",
       "    </tr>\n",
       "    <tr>\n",
       "      <th>G</th>\n",
       "      <td>0.629908</td>\n",
       "      <td>0.588174</td>\n",
       "      <td>0.054512</td>\n",
       "      <td>0.629201</td>\n",
       "      <td>0.555873</td>\n",
       "    </tr>\n",
       "    <tr>\n",
       "      <th>H</th>\n",
       "      <td>0.390349</td>\n",
       "      <td>0.685989</td>\n",
       "      <td>0.509907</td>\n",
       "      <td>0.561991</td>\n",
       "      <td>0.252120</td>\n",
       "    </tr>\n",
       "  </tbody>\n",
       "</table>\n",
       "</div>"
      ],
      "text/plain": [
       "     score1    score2    score3    score4    score5\n",
       "A  0.092448  0.913090  0.166320  0.855600  0.968518\n",
       "B  0.230390  0.382808  0.931282  0.981165  0.463775\n",
       "C  0.022001  0.084436  0.889445  0.656846  0.309484\n",
       "D  0.429704  0.983017  0.184688  0.979411  0.599283\n",
       "E  0.076814  0.841808  0.080391  0.276825  0.953308\n",
       "F  0.448009  0.310957  0.055453  0.542500  0.569815\n",
       "G  0.629908  0.588174  0.054512  0.629201  0.555873\n",
       "H  0.390349  0.685989  0.509907  0.561991  0.252120"
      ]
     },
     "execution_count": 49,
     "metadata": {},
     "output_type": "execute_result"
    }
   ],
   "source": [
    "df1=pd.DataFrame(np.random.rand(8,5),index='A B C D E F G H '.split(),columns='score1 score2 score3 score4 score5'.split())\n",
    "df1"
   ]
  },
  {
   "cell_type": "code",
   "execution_count": 50,
   "id": "246177a6",
   "metadata": {},
   "outputs": [
    {
     "data": {
      "text/plain": [
       "A    0.092448\n",
       "B    0.230390\n",
       "C    0.022001\n",
       "D    0.429704\n",
       "E    0.076814\n",
       "F    0.448009\n",
       "G    0.629908\n",
       "H    0.390349\n",
       "Name: score1, dtype: float64"
      ]
     },
     "execution_count": 50,
     "metadata": {},
     "output_type": "execute_result"
    }
   ],
   "source": [
    "df1['score1']"
   ]
  },
  {
   "cell_type": "code",
   "execution_count": 55,
   "id": "b90c3f07",
   "metadata": {},
   "outputs": [
    {
     "data": {
      "text/html": [
       "<div>\n",
       "<style scoped>\n",
       "    .dataframe tbody tr th:only-of-type {\n",
       "        vertical-align: middle;\n",
       "    }\n",
       "\n",
       "    .dataframe tbody tr th {\n",
       "        vertical-align: top;\n",
       "    }\n",
       "\n",
       "    .dataframe thead th {\n",
       "        text-align: right;\n",
       "    }\n",
       "</style>\n",
       "<table border=\"1\" class=\"dataframe\">\n",
       "  <thead>\n",
       "    <tr style=\"text-align: right;\">\n",
       "      <th></th>\n",
       "      <th>score1</th>\n",
       "      <th>score2</th>\n",
       "      <th>score3</th>\n",
       "      <th>score4</th>\n",
       "      <th>score5</th>\n",
       "      <th>score6</th>\n",
       "    </tr>\n",
       "  </thead>\n",
       "  <tbody>\n",
       "    <tr>\n",
       "      <th>A</th>\n",
       "      <td>0.092448</td>\n",
       "      <td>0.913090</td>\n",
       "      <td>0.166320</td>\n",
       "      <td>0.855600</td>\n",
       "      <td>0.968518</td>\n",
       "      <td>1.005538</td>\n",
       "    </tr>\n",
       "    <tr>\n",
       "      <th>B</th>\n",
       "      <td>0.230390</td>\n",
       "      <td>0.382808</td>\n",
       "      <td>0.931282</td>\n",
       "      <td>0.981165</td>\n",
       "      <td>0.463775</td>\n",
       "      <td>0.613198</td>\n",
       "    </tr>\n",
       "    <tr>\n",
       "      <th>C</th>\n",
       "      <td>0.022001</td>\n",
       "      <td>0.084436</td>\n",
       "      <td>0.889445</td>\n",
       "      <td>0.656846</td>\n",
       "      <td>0.309484</td>\n",
       "      <td>0.106436</td>\n",
       "    </tr>\n",
       "    <tr>\n",
       "      <th>D</th>\n",
       "      <td>0.429704</td>\n",
       "      <td>0.983017</td>\n",
       "      <td>0.184688</td>\n",
       "      <td>0.979411</td>\n",
       "      <td>0.599283</td>\n",
       "      <td>1.412721</td>\n",
       "    </tr>\n",
       "    <tr>\n",
       "      <th>E</th>\n",
       "      <td>0.076814</td>\n",
       "      <td>0.841808</td>\n",
       "      <td>0.080391</td>\n",
       "      <td>0.276825</td>\n",
       "      <td>0.953308</td>\n",
       "      <td>0.918622</td>\n",
       "    </tr>\n",
       "    <tr>\n",
       "      <th>F</th>\n",
       "      <td>0.448009</td>\n",
       "      <td>0.310957</td>\n",
       "      <td>0.055453</td>\n",
       "      <td>0.542500</td>\n",
       "      <td>0.569815</td>\n",
       "      <td>0.758966</td>\n",
       "    </tr>\n",
       "    <tr>\n",
       "      <th>G</th>\n",
       "      <td>0.629908</td>\n",
       "      <td>0.588174</td>\n",
       "      <td>0.054512</td>\n",
       "      <td>0.629201</td>\n",
       "      <td>0.555873</td>\n",
       "      <td>1.218082</td>\n",
       "    </tr>\n",
       "    <tr>\n",
       "      <th>H</th>\n",
       "      <td>0.390349</td>\n",
       "      <td>0.685989</td>\n",
       "      <td>0.509907</td>\n",
       "      <td>0.561991</td>\n",
       "      <td>0.252120</td>\n",
       "      <td>1.076339</td>\n",
       "    </tr>\n",
       "  </tbody>\n",
       "</table>\n",
       "</div>"
      ],
      "text/plain": [
       "     score1    score2    score3    score4    score5    score6\n",
       "A  0.092448  0.913090  0.166320  0.855600  0.968518  1.005538\n",
       "B  0.230390  0.382808  0.931282  0.981165  0.463775  0.613198\n",
       "C  0.022001  0.084436  0.889445  0.656846  0.309484  0.106436\n",
       "D  0.429704  0.983017  0.184688  0.979411  0.599283  1.412721\n",
       "E  0.076814  0.841808  0.080391  0.276825  0.953308  0.918622\n",
       "F  0.448009  0.310957  0.055453  0.542500  0.569815  0.758966\n",
       "G  0.629908  0.588174  0.054512  0.629201  0.555873  1.218082\n",
       "H  0.390349  0.685989  0.509907  0.561991  0.252120  1.076339"
      ]
     },
     "execution_count": 55,
     "metadata": {},
     "output_type": "execute_result"
    }
   ],
   "source": [
    "df1['score1']+df1['score2']\n",
    "df1"
   ]
  },
  {
   "cell_type": "code",
   "execution_count": 53,
   "id": "5fe3989a",
   "metadata": {},
   "outputs": [
    {
     "data": {
      "text/html": [
       "<div>\n",
       "<style scoped>\n",
       "    .dataframe tbody tr th:only-of-type {\n",
       "        vertical-align: middle;\n",
       "    }\n",
       "\n",
       "    .dataframe tbody tr th {\n",
       "        vertical-align: top;\n",
       "    }\n",
       "\n",
       "    .dataframe thead th {\n",
       "        text-align: right;\n",
       "    }\n",
       "</style>\n",
       "<table border=\"1\" class=\"dataframe\">\n",
       "  <thead>\n",
       "    <tr style=\"text-align: right;\">\n",
       "      <th></th>\n",
       "      <th>score1</th>\n",
       "      <th>score2</th>\n",
       "      <th>score3</th>\n",
       "      <th>score4</th>\n",
       "      <th>score5</th>\n",
       "      <th>score6</th>\n",
       "    </tr>\n",
       "  </thead>\n",
       "  <tbody>\n",
       "    <tr>\n",
       "      <th>A</th>\n",
       "      <td>0.092448</td>\n",
       "      <td>0.913090</td>\n",
       "      <td>0.166320</td>\n",
       "      <td>0.855600</td>\n",
       "      <td>0.968518</td>\n",
       "      <td>1.005538</td>\n",
       "    </tr>\n",
       "    <tr>\n",
       "      <th>B</th>\n",
       "      <td>0.230390</td>\n",
       "      <td>0.382808</td>\n",
       "      <td>0.931282</td>\n",
       "      <td>0.981165</td>\n",
       "      <td>0.463775</td>\n",
       "      <td>0.613198</td>\n",
       "    </tr>\n",
       "    <tr>\n",
       "      <th>C</th>\n",
       "      <td>0.022001</td>\n",
       "      <td>0.084436</td>\n",
       "      <td>0.889445</td>\n",
       "      <td>0.656846</td>\n",
       "      <td>0.309484</td>\n",
       "      <td>0.106436</td>\n",
       "    </tr>\n",
       "    <tr>\n",
       "      <th>D</th>\n",
       "      <td>0.429704</td>\n",
       "      <td>0.983017</td>\n",
       "      <td>0.184688</td>\n",
       "      <td>0.979411</td>\n",
       "      <td>0.599283</td>\n",
       "      <td>1.412721</td>\n",
       "    </tr>\n",
       "    <tr>\n",
       "      <th>E</th>\n",
       "      <td>0.076814</td>\n",
       "      <td>0.841808</td>\n",
       "      <td>0.080391</td>\n",
       "      <td>0.276825</td>\n",
       "      <td>0.953308</td>\n",
       "      <td>0.918622</td>\n",
       "    </tr>\n",
       "    <tr>\n",
       "      <th>F</th>\n",
       "      <td>0.448009</td>\n",
       "      <td>0.310957</td>\n",
       "      <td>0.055453</td>\n",
       "      <td>0.542500</td>\n",
       "      <td>0.569815</td>\n",
       "      <td>0.758966</td>\n",
       "    </tr>\n",
       "    <tr>\n",
       "      <th>G</th>\n",
       "      <td>0.629908</td>\n",
       "      <td>0.588174</td>\n",
       "      <td>0.054512</td>\n",
       "      <td>0.629201</td>\n",
       "      <td>0.555873</td>\n",
       "      <td>1.218082</td>\n",
       "    </tr>\n",
       "    <tr>\n",
       "      <th>H</th>\n",
       "      <td>0.390349</td>\n",
       "      <td>0.685989</td>\n",
       "      <td>0.509907</td>\n",
       "      <td>0.561991</td>\n",
       "      <td>0.252120</td>\n",
       "      <td>1.076339</td>\n",
       "    </tr>\n",
       "  </tbody>\n",
       "</table>\n",
       "</div>"
      ],
      "text/plain": [
       "     score1    score2    score3    score4    score5    score6\n",
       "A  0.092448  0.913090  0.166320  0.855600  0.968518  1.005538\n",
       "B  0.230390  0.382808  0.931282  0.981165  0.463775  0.613198\n",
       "C  0.022001  0.084436  0.889445  0.656846  0.309484  0.106436\n",
       "D  0.429704  0.983017  0.184688  0.979411  0.599283  1.412721\n",
       "E  0.076814  0.841808  0.080391  0.276825  0.953308  0.918622\n",
       "F  0.448009  0.310957  0.055453  0.542500  0.569815  0.758966\n",
       "G  0.629908  0.588174  0.054512  0.629201  0.555873  1.218082\n",
       "H  0.390349  0.685989  0.509907  0.561991  0.252120  1.076339"
      ]
     },
     "execution_count": 53,
     "metadata": {},
     "output_type": "execute_result"
    }
   ],
   "source": [
    "df1[\"score6\"]=df1[\"score1\"]+df1[\"score2\"]\n",
    "df1"
   ]
  },
  {
   "cell_type": "code",
   "execution_count": 56,
   "id": "a1bb2801",
   "metadata": {},
   "outputs": [
    {
     "data": {
      "text/html": [
       "<div>\n",
       "<style scoped>\n",
       "    .dataframe tbody tr th:only-of-type {\n",
       "        vertical-align: middle;\n",
       "    }\n",
       "\n",
       "    .dataframe tbody tr th {\n",
       "        vertical-align: top;\n",
       "    }\n",
       "\n",
       "    .dataframe thead th {\n",
       "        text-align: right;\n",
       "    }\n",
       "</style>\n",
       "<table border=\"1\" class=\"dataframe\">\n",
       "  <thead>\n",
       "    <tr style=\"text-align: right;\">\n",
       "      <th></th>\n",
       "      <th>id</th>\n",
       "      <th>NAME</th>\n",
       "      <th>PROFIT</th>\n",
       "    </tr>\n",
       "  </thead>\n",
       "  <tbody>\n",
       "    <tr>\n",
       "      <th>0</th>\n",
       "      <td>101</td>\n",
       "      <td>aditi</td>\n",
       "      <td>23</td>\n",
       "    </tr>\n",
       "    <tr>\n",
       "      <th>1</th>\n",
       "      <td>757</td>\n",
       "      <td>atin</td>\n",
       "      <td>5</td>\n",
       "    </tr>\n",
       "    <tr>\n",
       "      <th>2</th>\n",
       "      <td>464</td>\n",
       "      <td>trujal</td>\n",
       "      <td>64</td>\n",
       "    </tr>\n",
       "    <tr>\n",
       "      <th>3</th>\n",
       "      <td>538</td>\n",
       "      <td>brinjal</td>\n",
       "      <td>53</td>\n",
       "    </tr>\n",
       "    <tr>\n",
       "      <th>4</th>\n",
       "      <td>663</td>\n",
       "      <td>snehu</td>\n",
       "      <td>24</td>\n",
       "    </tr>\n",
       "  </tbody>\n",
       "</table>\n",
       "</div>"
      ],
      "text/plain": [
       "    id     NAME  PROFIT\n",
       "0  101    aditi      23\n",
       "1  757     atin       5\n",
       "2  464   trujal      64\n",
       "3  538  brinjal      53\n",
       "4  663    snehu      24"
      ]
     },
     "execution_count": 56,
     "metadata": {},
     "output_type": "execute_result"
    }
   ],
   "source": [
    "df2={'id':['101','757','464','538','663'],'NAME':['aditi','atin','trujal','brinjal','snehu'],'PROFIT':[23,5,64,53,24]}\n",
    "df=pd.DataFrame(df2)\n",
    "df"
   ]
  },
  {
   "cell_type": "code",
   "execution_count": 57,
   "id": "3bced2d6",
   "metadata": {},
   "outputs": [
    {
     "data": {
      "text/plain": [
       "0    101\n",
       "1    757\n",
       "2    464\n",
       "3    538\n",
       "4    663\n",
       "Name: id, dtype: object"
      ]
     },
     "execution_count": 57,
     "metadata": {},
     "output_type": "execute_result"
    }
   ],
   "source": [
    "df[\"id\"]"
   ]
  },
  {
   "cell_type": "code",
   "execution_count": 59,
   "id": "59895432",
   "metadata": {},
   "outputs": [
    {
     "ename": "SyntaxError",
     "evalue": "invalid syntax. Maybe you meant '==' or ':=' instead of '='? (315106153.py, line 1)",
     "output_type": "error",
     "traceback": [
      "\u001b[1;36m  Cell \u001b[1;32mIn[59], line 1\u001b[1;36m\u001b[0m\n\u001b[1;33m    df=df.drop[\"id\",axis=1]\u001b[0m\n\u001b[1;37m                    ^\u001b[0m\n\u001b[1;31mSyntaxError\u001b[0m\u001b[1;31m:\u001b[0m invalid syntax. Maybe you meant '==' or ':=' instead of '='?\n"
     ]
    }
   ],
   "source": [
    "df=df.drop[\"id\",axis=1]\n",
    "df"
   ]
  },
  {
   "cell_type": "code",
   "execution_count": 60,
   "id": "71dd33ef",
   "metadata": {},
   "outputs": [
    {
     "data": {
      "text/html": [
       "<div>\n",
       "<style scoped>\n",
       "    .dataframe tbody tr th:only-of-type {\n",
       "        vertical-align: middle;\n",
       "    }\n",
       "\n",
       "    .dataframe tbody tr th {\n",
       "        vertical-align: top;\n",
       "    }\n",
       "\n",
       "    .dataframe thead th {\n",
       "        text-align: right;\n",
       "    }\n",
       "</style>\n",
       "<table border=\"1\" class=\"dataframe\">\n",
       "  <thead>\n",
       "    <tr style=\"text-align: right;\">\n",
       "      <th></th>\n",
       "      <th>id</th>\n",
       "      <th>NAME</th>\n",
       "      <th>PROFIT</th>\n",
       "    </tr>\n",
       "  </thead>\n",
       "  <tbody>\n",
       "    <tr>\n",
       "      <th>0</th>\n",
       "      <td>101</td>\n",
       "      <td>aditi</td>\n",
       "      <td>23</td>\n",
       "    </tr>\n",
       "    <tr>\n",
       "      <th>1</th>\n",
       "      <td>757</td>\n",
       "      <td>atin</td>\n",
       "      <td>5</td>\n",
       "    </tr>\n",
       "    <tr>\n",
       "      <th>2</th>\n",
       "      <td>464</td>\n",
       "      <td>trujal</td>\n",
       "      <td>64</td>\n",
       "    </tr>\n",
       "    <tr>\n",
       "      <th>4</th>\n",
       "      <td>663</td>\n",
       "      <td>snehu</td>\n",
       "      <td>24</td>\n",
       "    </tr>\n",
       "  </tbody>\n",
       "</table>\n",
       "</div>"
      ],
      "text/plain": [
       "    id    NAME  PROFIT\n",
       "0  101   aditi      23\n",
       "1  757    atin       5\n",
       "2  464  trujal      64\n",
       "4  663   snehu      24"
      ]
     },
     "execution_count": 60,
     "metadata": {},
     "output_type": "execute_result"
    }
   ],
   "source": [
    "df.drop(3)"
   ]
  },
  {
   "cell_type": "code",
   "execution_count": null,
   "id": "5b59794a",
   "metadata": {},
   "outputs": [],
   "source": [
    "# HOW TO IMPORT DATABASE USING PANDA"
   ]
  }
 ],
 "metadata": {
  "kernelspec": {
   "display_name": "Python 3 (ipykernel)",
   "language": "python",
   "name": "python3"
  },
  "language_info": {
   "codemirror_mode": {
    "name": "ipython",
    "version": 3
   },
   "file_extension": ".py",
   "mimetype": "text/x-python",
   "name": "python",
   "nbconvert_exporter": "python",
   "pygments_lexer": "ipython3",
   "version": "3.11.5"
  }
 },
 "nbformat": 4,
 "nbformat_minor": 5
}
